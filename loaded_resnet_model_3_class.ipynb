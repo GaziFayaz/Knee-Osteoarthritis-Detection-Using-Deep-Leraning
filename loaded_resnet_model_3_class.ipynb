{
  "nbformat": 4,
  "nbformat_minor": 0,
  "metadata": {
    "colab": {
      "provenance": [],
      "gpuType": "T4"
    },
    "kernelspec": {
      "name": "python3",
      "display_name": "Python 3"
    },
    "language_info": {
      "name": "python"
    },
    "accelerator": "GPU"
  },
  "cells": [
    {
      "cell_type": "code",
      "execution_count": null,
      "metadata": {
        "id": "mkHCEH0xAL2V"
      },
      "outputs": [],
      "source": [
        "import matplotlib.pyplot as plt\n",
        "import numpy as np\n",
        "import os\n",
        "import PIL\n",
        "import tensorflow as tf\n",
        "from tensorflow import keras\n",
        "from tensorflow.keras import layers\n",
        "from tensorflow.keras.layers import Dense, Flatten\n",
        "from tensorflow.keras.models import Sequential\n",
        "from tensorflow.keras.optimizers import Adam\n",
        "from glob import glob\n",
        "from tensorflow.keras.preprocessing.image import ImageDataGenerator\n",
        "from tensorflow.keras.applications.resnet import preprocess_input\n",
        "from datetime import datetime\n",
        "from tensorflow.keras.models import load_model"
      ]
    },
    {
      "cell_type": "code",
      "execution_count": null,
      "metadata": {
        "colab": {
          "base_uri": "https://localhost:8080/"
        },
        "id": "zogT1w5E8Wxe",
        "outputId": "2d98c8ca-1436-4cb3-f5e2-c278ac45a3b9"
      },
      "outputs": [
        {
          "output_type": "stream",
          "name": "stdout",
          "text": [
            "Mounted at /content/drive\n"
          ]
        }
      ],
      "source": [
        "from google.colab import drive\n",
        "drive.mount('/content/drive')"
      ]
    },
    {
      "cell_type": "code",
      "execution_count": null,
      "metadata": {
        "colab": {
          "base_uri": "https://localhost:8080/"
        },
        "id": "rK5O7TXs8f8k",
        "outputId": "1cb65341-91b1-4cb6-e094-4f85714acddc"
      },
      "outputs": [
        {
          "output_type": "stream",
          "name": "stdout",
          "text": [
            " augmented_val_set\n",
            " auto_test\n",
            "'best_model_accuracy_graph_resnet 2023-08-31 17:14:59.png'\n",
            "'best_model_loss_graph_resnet 2023-08-31 17:14:59.png'\n",
            "'best_model_resnet 1st stage 2023-08-31 14:14:54.h5'\n",
            "'best_model_resnet 2nd stage 2023-08-31 15:38:17.h5'\n",
            " results.csv\n",
            " test\n",
            " train\n",
            " val\n"
          ]
        }
      ],
      "source": [
        "!ls '/content/drive/MyDrive/Knee Osteoarthritis Dataset with Severity Grading 3 class/'"
      ]
    },
    {
      "cell_type": "code",
      "source": [
        "model = load_model(\"/content/drive/MyDrive/Knee Osteoarthritis Dataset with Severity Grading 3 class/best_model_resnet 2nd stage 2023-08-31 15:38:17.h5\")\n",
        "print(\"Loaded model from disk\")"
      ],
      "metadata": {
        "colab": {
          "base_uri": "https://localhost:8080/"
        },
        "id": "71aOr1iNAqjj",
        "outputId": "c0d321e9-38c7-4428-b30e-603de656122e"
      },
      "execution_count": null,
      "outputs": [
        {
          "output_type": "stream",
          "name": "stdout",
          "text": [
            "Loaded model from disk\n"
          ]
        }
      ]
    },
    {
      "cell_type": "code",
      "source": [
        "model.summary()"
      ],
      "metadata": {
        "colab": {
          "base_uri": "https://localhost:8080/"
        },
        "id": "HhCxZyp6B7DG",
        "outputId": "8d4400ed-7de0-48a9-aab4-9d9763eb0f8c"
      },
      "execution_count": null,
      "outputs": [
        {
          "output_type": "stream",
          "name": "stdout",
          "text": [
            "Model: \"sequential\"\n",
            "_________________________________________________________________\n",
            " Layer (type)                Output Shape              Param #   \n",
            "=================================================================\n",
            " resnet50 (Functional)       (None, 2048)              23587712  \n",
            "                                                                 \n",
            " flatten (Flatten)           (None, 2048)              0         \n",
            "                                                                 \n",
            " dense (Dense)               (None, 512)               1049088   \n",
            "                                                                 \n",
            " dense_1 (Dense)             (None, 3)                 1539      \n",
            "                                                                 \n",
            "=================================================================\n",
            "Total params: 24,638,339\n",
            "Trainable params: 24,585,219\n",
            "Non-trainable params: 53,120\n",
            "_________________________________________________________________\n"
          ]
        }
      ]
    },
    {
      "cell_type": "code",
      "source": [
        "val_path = '/content/drive/MyDrive/Knee Osteoarthritis Dataset with Severity Grading 3 class/test'"
      ],
      "metadata": {
        "id": "90KlTS8ODFLA"
      },
      "execution_count": null,
      "outputs": []
    },
    {
      "cell_type": "code",
      "source": [
        "val_datagen = ImageDataGenerator(\n",
        "    # preprocessing_function=preprocess_input,\n",
        "    rotation_range=40,\n",
        "    width_shift_range=0.2,\n",
        "    height_shift_range=0.2,\n",
        "    shear_range=0.2,\n",
        "    zoom_range=0.2,\n",
        "    horizontal_flip=True,\n",
        "    fill_mode='nearest')"
      ],
      "metadata": {
        "id": "drCjdjFdDBiA"
      },
      "execution_count": null,
      "outputs": []
    },
    {
      "cell_type": "code",
      "source": [
        "start = datetime.now()\n",
        "\n",
        "val_set = val_datagen.flow_from_directory(val_path,\n",
        "                                            target_size = (224, 224),\n",
        "                                            color_mode=\"rgb\",\n",
        "                                            batch_size = 1,\n",
        "                                          shuffle=True,\n",
        "                                            class_mode = 'categorical',\n",
        "                                          # save_to_dir= \"/content/drive/MyDrive/Knee Osteoarthritis Dataset with Severity Grading 3 class/augmented_val_set\",\n",
        "                                          # save_format=\"png\",\n",
        "                                          seed=42)\n",
        "\n",
        "history =model.evaluate_generator(generator= val_set)\n",
        "\n",
        "duration = datetime.now() - start\n",
        "print(\"Training completed in time: \", duration)"
      ],
      "metadata": {
        "colab": {
          "base_uri": "https://localhost:8080/"
        },
        "id": "YW0RjVXUC4x8",
        "outputId": "6bba1b67-ac95-4090-e144-7a28223440f3"
      },
      "execution_count": null,
      "outputs": [
        {
          "output_type": "stream",
          "name": "stdout",
          "text": [
            "Found 1656 images belonging to 3 classes.\n"
          ]
        },
        {
          "output_type": "stream",
          "name": "stderr",
          "text": [
            "<ipython-input-8-3a487e8d33f9>:13: UserWarning: `Model.evaluate_generator` is deprecated and will be removed in a future version. Please use `Model.evaluate`, which supports generators.\n",
            "  history =model.evaluate_generator(generator= val_set)\n"
          ]
        },
        {
          "output_type": "stream",
          "name": "stdout",
          "text": [
            "Training completed in time:  0:08:27.974003\n"
          ]
        }
      ]
    },
    {
      "cell_type": "code",
      "source": [
        "history"
      ],
      "metadata": {
        "colab": {
          "base_uri": "https://localhost:8080/"
        },
        "id": "UsqXIyygD-uL",
        "outputId": "a4b0109b-28b0-4edb-8617-960ae9ea5964"
      },
      "execution_count": null,
      "outputs": [
        {
          "output_type": "execute_result",
          "data": {
            "text/plain": [
              "[0.11448011547327042, 0.9359903335571289]"
            ]
          },
          "metadata": {},
          "execution_count": 9
        }
      ]
    },
    {
      "cell_type": "code",
      "source": [
        "test_datagen = ImageDataGenerator(\n",
        "    # preprocessing_function=preprocess_input,\n",
        "    rotation_range=40,\n",
        "    width_shift_range=0.2,\n",
        "    height_shift_range=0.2,\n",
        "    shear_range=0.2,\n",
        "    zoom_range=0.2,\n",
        "    horizontal_flip=True,\n",
        "    fill_mode='nearest')"
      ],
      "metadata": {
        "id": "k-WHynTlOQOb"
      },
      "execution_count": null,
      "outputs": []
    },
    {
      "cell_type": "code",
      "source": [
        "test_path = '/content/drive/MyDrive/Knee Osteoarthritis Dataset with Severity Grading 3 class/val'"
      ],
      "metadata": {
        "id": "P9mU7EvwQyOq"
      },
      "execution_count": null,
      "outputs": []
    },
    {
      "cell_type": "code",
      "source": [
        "test_set = test_datagen.flow_from_directory(test_path,\n",
        "                                            target_size=(224,224),\n",
        "                                            color_mode=\"rgb\",\n",
        "                                            batch_size=1,\n",
        "                                            shuffle=False,\n",
        "                                            class_mode=None,\n",
        "                                            seed = 42)"
      ],
      "metadata": {
        "colab": {
          "base_uri": "https://localhost:8080/"
        },
        "id": "vHvN9N6yOUCl",
        "outputId": "2a276357-0810-4706-c7a3-586e21cb91f2"
      },
      "execution_count": null,
      "outputs": [
        {
          "output_type": "stream",
          "name": "stdout",
          "text": [
            "Found 826 images belonging to 3 classes.\n"
          ]
        }
      ]
    },
    {
      "cell_type": "code",
      "source": [
        "length=len(test_set)\n",
        "test_batch_size=sorted([int(length/n) for n in range(1,length+1) if length % n ==0 and length/n<=80],reverse=True)[0]\n",
        "test_steps=int(length/test_batch_size)\n",
        "msg='{0:70s} for test generator'.format(' ')\n",
        "print(msg, '\\r', end='') # prints over on the same line"
      ],
      "metadata": {
        "colab": {
          "base_uri": "https://localhost:8080/"
        },
        "id": "qMXqtg4ERZ_k",
        "outputId": "48f82c5f-8af0-4c94-8996-6f960fd595e8"
      },
      "execution_count": null,
      "outputs": [
        {
          "output_type": "stream",
          "name": "stdout",
          "text": [
            "                                                                       for test generator \r"
          ]
        }
      ]
    },
    {
      "cell_type": "code",
      "source": [
        "test_batch_size"
      ],
      "metadata": {
        "colab": {
          "base_uri": "https://localhost:8080/"
        },
        "id": "fom6z5k4SBSV",
        "outputId": "c19f09c5-90bf-4d17-ac25-e87caf3763d1"
      },
      "execution_count": null,
      "outputs": [
        {
          "output_type": "execute_result",
          "data": {
            "text/plain": [
              "59"
            ]
          },
          "metadata": {},
          "execution_count": 20
        }
      ]
    },
    {
      "cell_type": "code",
      "source": [
        "test_steps"
      ],
      "metadata": {
        "colab": {
          "base_uri": "https://localhost:8080/"
        },
        "id": "Zy1okjNBSDrO",
        "outputId": "420b5de7-9a93-4a0c-dfa4-d5940d473137"
      },
      "execution_count": null,
      "outputs": [
        {
          "output_type": "execute_result",
          "data": {
            "text/plain": [
              "14"
            ]
          },
          "metadata": {},
          "execution_count": 21
        }
      ]
    },
    {
      "cell_type": "code",
      "source": [
        "from sklearn.metrics import confusion_matrix, classification_report\n",
        "import seaborn as sns\n",
        "\n",
        "def predictor(test_set, test_steps):\n",
        "    y_pred= []\n",
        "    y_true=test_set.labels\n",
        "    classes=list(test_set.class_indices.keys())\n",
        "    class_count=len(classes)\n",
        "    errors=0\n",
        "    preds=model.predict(test_set, verbose=1)\n",
        "    tests=len(preds)\n",
        "    for i, p in enumerate(preds):\n",
        "        pred_index=np.argmax(p)\n",
        "        true_index=test_set.labels[i]  # labels are integer values\n",
        "        if pred_index != true_index: # a misclassification has occurred\n",
        "            errors=errors + 1\n",
        "            file=test_set.filenames[i]\n",
        "        y_pred.append(pred_index)\n",
        "\n",
        "    acc=( 1-errors/tests) * 100\n",
        "    print(f'there were {errors} errors in {tests} tests for an accuracy of {acc:6.2f}')\n",
        "    ypred=np.array(y_pred)\n",
        "    ytrue=np.array(y_true)\n",
        "    if class_count <=30:\n",
        "        cm = confusion_matrix(ytrue, ypred )\n",
        "        # plot the confusion matrix\n",
        "        plt.figure(figsize=(12, 8))\n",
        "        sns.heatmap(cm, annot=True, vmin=0, fmt='g', cmap='Blues', cbar=False)\n",
        "        plt.xticks(np.arange(class_count)+.5, classes, rotation=90)\n",
        "        plt.yticks(np.arange(class_count)+.5, classes, rotation=0)\n",
        "        plt.xlabel(\"Predicted\")\n",
        "        plt.ylabel(\"Actual\")\n",
        "        plt.title(\"Confusion Matrix\")\n",
        "        plt.show()\n",
        "    clr = classification_report(y_true, y_pred, target_names=classes, digits= 4) # create classification report\n",
        "    print(\"Classification Report:\\n----------------------\\n\", clr)\n",
        "    return errors, tests\n",
        "errors, tests=predictor(test_set, test_steps)"
      ],
      "metadata": {
        "id": "n3IC6V4pHMrV",
        "colab": {
          "base_uri": "https://localhost:8080/",
          "height": 956
        },
        "outputId": "e36a40a0-2326-4c47-983d-f0b9c7f62af2"
      },
      "execution_count": null,
      "outputs": [
        {
          "output_type": "stream",
          "name": "stdout",
          "text": [
            "826/826 [==============================] - 272s 329ms/step\n",
            "there were 65 errors in 826 tests for an accuracy of  92.13\n"
          ]
        },
        {
          "output_type": "display_data",
          "data": {
            "text/plain": [
              "<Figure size 1200x800 with 1 Axes>"
            ],
            "image/png": "[encoded data removed]"
          },
          "metadata": {}
        },
        {
          "output_type": "stream",
          "name": "stdout",
          "text": [
            "Classification Report:\n",
            "----------------------\n",
            "               precision    recall  f1-score   support\n",
            "\n",
            "           0     0.9586    0.9683    0.9634       693\n",
            "           1     0.7283    0.6321    0.6768       106\n",
            "           2     0.6765    0.8519    0.7541        27\n",
            "\n",
            "    accuracy                         0.9213       826\n",
            "   macro avg     0.7878    0.8174    0.7981       826\n",
            "weighted avg     0.9198    0.9213    0.9198       826\n",
            "\n"
          ]
        }
      ]
    },
    {
      "cell_type": "code",
      "source": [
        "import os\n",
        "\n",
        "subject='knee'\n",
        "acc=str(( 1-errors/tests) * 1000)\n",
        "index=acc.rfind('.')\n",
        "acc=acc[:index + 3]\n",
        "save_id= subject + '_' + str(acc) + '.h5'\n",
        "model_save_loc=os.path.join('/content/drive/MyDrive/Knee Osteoarthritis Dataset with Severity Grading 3 class', save_id)\n",
        "model.save(model_save_loc)\n",
        "print ('model was saved as ' , model_save_loc )"
      ],
      "metadata": {
        "colab": {
          "base_uri": "https://localhost:8080/"
        },
        "id": "VehcXa0CUyqz",
        "outputId": "3ccd78bf-db0f-4fe8-bf98-d39e66173ac8"
      },
      "execution_count": null,
      "outputs": [
        {
          "output_type": "stream",
          "name": "stdout",
          "text": [
            "model was saved as  /content/drive/MyDrive/Knee Osteoarthritis Dataset with Severity Grading 3 class/knee_921.30.h5\n"
          ]
        }
      ]
    }
  ]
}